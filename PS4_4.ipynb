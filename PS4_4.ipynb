{
 "cells": [
  {
   "cell_type": "markdown",
   "source": [
    "# Problem Set 4 - 4\n",
    "### (a)"
   ],
   "metadata": {
    "collapsed": false
   },
   "id": "d7cff935e340b8ad"
  },
  {
   "cell_type": "code",
   "execution_count": 71,
   "outputs": [],
   "source": [
    "import numpy as np\n",
    "import matplotlib.pyplot as plt\n",
    "import pandas as pd\n",
    "import statsmodels.api as sm\n",
    "import statsmodels.formula.api as smf"
   ],
   "metadata": {
    "collapsed": false,
    "ExecuteTime": {
     "end_time": "2023-12-04T21:23:57.759946800Z",
     "start_time": "2023-12-04T21:23:57.744319900Z"
    }
   },
   "id": "cfe92b2759889535"
  },
  {
   "cell_type": "code",
   "execution_count": 72,
   "outputs": [
    {
     "data": {
      "text/plain": "           0     1     2     3    4\nid         1     1     1     2    2\nstate     AL    AL    AL    AK   AK\nyear      87    90    93    87   90\nmrdrte   9.3  11.6  11.6  10.1  7.5\nexec       2     5     2     0    0\nunem     7.8   6.8   7.5  10.8  6.9\nd90        0     1     0     0    1\nd93        0     0     1     0    0\ncmrdrte  NaN   2.3   0.0   NaN -2.6\ncexec    NaN   3.0  -3.0   NaN  0.0\ncunem    NaN  -1.0   0.7   NaN -3.9\ncexec_1  NaN   NaN   3.0   NaN  NaN\ncunem_1  NaN   NaN  -1.0   NaN  NaN",
      "text/html": "<div>\n<style scoped>\n    .dataframe tbody tr th:only-of-type {\n        vertical-align: middle;\n    }\n\n    .dataframe tbody tr th {\n        vertical-align: top;\n    }\n\n    .dataframe thead th {\n        text-align: right;\n    }\n</style>\n<table border=\"1\" class=\"dataframe\">\n  <thead>\n    <tr style=\"text-align: right;\">\n      <th></th>\n      <th>0</th>\n      <th>1</th>\n      <th>2</th>\n      <th>3</th>\n      <th>4</th>\n    </tr>\n  </thead>\n  <tbody>\n    <tr>\n      <th>id</th>\n      <td>1</td>\n      <td>1</td>\n      <td>1</td>\n      <td>2</td>\n      <td>2</td>\n    </tr>\n    <tr>\n      <th>state</th>\n      <td>AL</td>\n      <td>AL</td>\n      <td>AL</td>\n      <td>AK</td>\n      <td>AK</td>\n    </tr>\n    <tr>\n      <th>year</th>\n      <td>87</td>\n      <td>90</td>\n      <td>93</td>\n      <td>87</td>\n      <td>90</td>\n    </tr>\n    <tr>\n      <th>mrdrte</th>\n      <td>9.3</td>\n      <td>11.6</td>\n      <td>11.6</td>\n      <td>10.1</td>\n      <td>7.5</td>\n    </tr>\n    <tr>\n      <th>exec</th>\n      <td>2</td>\n      <td>5</td>\n      <td>2</td>\n      <td>0</td>\n      <td>0</td>\n    </tr>\n    <tr>\n      <th>unem</th>\n      <td>7.8</td>\n      <td>6.8</td>\n      <td>7.5</td>\n      <td>10.8</td>\n      <td>6.9</td>\n    </tr>\n    <tr>\n      <th>d90</th>\n      <td>0</td>\n      <td>1</td>\n      <td>0</td>\n      <td>0</td>\n      <td>1</td>\n    </tr>\n    <tr>\n      <th>d93</th>\n      <td>0</td>\n      <td>0</td>\n      <td>1</td>\n      <td>0</td>\n      <td>0</td>\n    </tr>\n    <tr>\n      <th>cmrdrte</th>\n      <td>NaN</td>\n      <td>2.3</td>\n      <td>0.0</td>\n      <td>NaN</td>\n      <td>-2.6</td>\n    </tr>\n    <tr>\n      <th>cexec</th>\n      <td>NaN</td>\n      <td>3.0</td>\n      <td>-3.0</td>\n      <td>NaN</td>\n      <td>0.0</td>\n    </tr>\n    <tr>\n      <th>cunem</th>\n      <td>NaN</td>\n      <td>-1.0</td>\n      <td>0.7</td>\n      <td>NaN</td>\n      <td>-3.9</td>\n    </tr>\n    <tr>\n      <th>cexec_1</th>\n      <td>NaN</td>\n      <td>NaN</td>\n      <td>3.0</td>\n      <td>NaN</td>\n      <td>NaN</td>\n    </tr>\n    <tr>\n      <th>cunem_1</th>\n      <td>NaN</td>\n      <td>NaN</td>\n      <td>-1.0</td>\n      <td>NaN</td>\n      <td>NaN</td>\n    </tr>\n  </tbody>\n</table>\n</div>"
     },
     "execution_count": 72,
     "metadata": {},
     "output_type": "execute_result"
    }
   ],
   "source": [
    "# read dta data\n",
    "data = pd.read_stata('SAVEWORD.DTA')  # Unfortunatly, the original name of this file is so sensitive that Auto-completion rejects to work with it.\n",
    "data.head().T\n"
   ],
   "metadata": {
    "collapsed": false,
    "ExecuteTime": {
     "end_time": "2023-12-04T21:23:57.838471400Z",
     "start_time": "2023-12-04T21:23:57.759946800Z"
    }
   },
   "id": "c7b7c7af036c034"
  },
  {
   "cell_type": "code",
   "execution_count": 73,
   "outputs": [
    {
     "data": {
      "text/plain": "           0     1     2     3    4\nid         1     1     1     2    2\nstate     AL    AL    AL    AK   AK\nyear      87    90    93    87   90\nmrdrte   9.3  11.6  11.6  10.1  7.5\nexec       2     5     2     0    0\nunem     7.8   6.8   7.5  10.8  6.9\nd90        0     1     0     0    1\nd93        0     0     1     0    0\ncmrdrte  NaN   2.3   0.0   NaN -2.6\ncexec    NaN   3.0  -3.0   NaN  0.0\ncunem    NaN  -1.0   0.7   NaN -3.9\ncexec_1  NaN   NaN   3.0   NaN  NaN\ncunem_1  NaN   NaN  -1.0   NaN  NaN\nyear_90  0.0   1.0   0.0   0.0  1.0\nyear_93  0.0   0.0   1.0   0.0  0.0",
      "text/html": "<div>\n<style scoped>\n    .dataframe tbody tr th:only-of-type {\n        vertical-align: middle;\n    }\n\n    .dataframe tbody tr th {\n        vertical-align: top;\n    }\n\n    .dataframe thead th {\n        text-align: right;\n    }\n</style>\n<table border=\"1\" class=\"dataframe\">\n  <thead>\n    <tr style=\"text-align: right;\">\n      <th></th>\n      <th>0</th>\n      <th>1</th>\n      <th>2</th>\n      <th>3</th>\n      <th>4</th>\n    </tr>\n  </thead>\n  <tbody>\n    <tr>\n      <th>id</th>\n      <td>1</td>\n      <td>1</td>\n      <td>1</td>\n      <td>2</td>\n      <td>2</td>\n    </tr>\n    <tr>\n      <th>state</th>\n      <td>AL</td>\n      <td>AL</td>\n      <td>AL</td>\n      <td>AK</td>\n      <td>AK</td>\n    </tr>\n    <tr>\n      <th>year</th>\n      <td>87</td>\n      <td>90</td>\n      <td>93</td>\n      <td>87</td>\n      <td>90</td>\n    </tr>\n    <tr>\n      <th>mrdrte</th>\n      <td>9.3</td>\n      <td>11.6</td>\n      <td>11.6</td>\n      <td>10.1</td>\n      <td>7.5</td>\n    </tr>\n    <tr>\n      <th>exec</th>\n      <td>2</td>\n      <td>5</td>\n      <td>2</td>\n      <td>0</td>\n      <td>0</td>\n    </tr>\n    <tr>\n      <th>unem</th>\n      <td>7.8</td>\n      <td>6.8</td>\n      <td>7.5</td>\n      <td>10.8</td>\n      <td>6.9</td>\n    </tr>\n    <tr>\n      <th>d90</th>\n      <td>0</td>\n      <td>1</td>\n      <td>0</td>\n      <td>0</td>\n      <td>1</td>\n    </tr>\n    <tr>\n      <th>d93</th>\n      <td>0</td>\n      <td>0</td>\n      <td>1</td>\n      <td>0</td>\n      <td>0</td>\n    </tr>\n    <tr>\n      <th>cmrdrte</th>\n      <td>NaN</td>\n      <td>2.3</td>\n      <td>0.0</td>\n      <td>NaN</td>\n      <td>-2.6</td>\n    </tr>\n    <tr>\n      <th>cexec</th>\n      <td>NaN</td>\n      <td>3.0</td>\n      <td>-3.0</td>\n      <td>NaN</td>\n      <td>0.0</td>\n    </tr>\n    <tr>\n      <th>cunem</th>\n      <td>NaN</td>\n      <td>-1.0</td>\n      <td>0.7</td>\n      <td>NaN</td>\n      <td>-3.9</td>\n    </tr>\n    <tr>\n      <th>cexec_1</th>\n      <td>NaN</td>\n      <td>NaN</td>\n      <td>3.0</td>\n      <td>NaN</td>\n      <td>NaN</td>\n    </tr>\n    <tr>\n      <th>cunem_1</th>\n      <td>NaN</td>\n      <td>NaN</td>\n      <td>-1.0</td>\n      <td>NaN</td>\n      <td>NaN</td>\n    </tr>\n    <tr>\n      <th>year_90</th>\n      <td>0.0</td>\n      <td>1.0</td>\n      <td>0.0</td>\n      <td>0.0</td>\n      <td>1.0</td>\n    </tr>\n    <tr>\n      <th>year_93</th>\n      <td>0.0</td>\n      <td>0.0</td>\n      <td>1.0</td>\n      <td>0.0</td>\n      <td>0.0</td>\n    </tr>\n  </tbody>\n</table>\n</div>"
     },
     "execution_count": 73,
     "metadata": {},
     "output_type": "execute_result"
    }
   ],
   "source": [
    "# create dummies for each year, drop 1987\n",
    "df = pd.concat([data, pd.get_dummies(data['year'], drop_first=True).astype(float)], axis=1)\n",
    "\n",
    "# rename the dummies\n",
    "df.rename(columns={90: 'year_90', 93: 'year_93'}, inplace=True)\n",
    "df.head().T"
   ],
   "metadata": {
    "collapsed": false,
    "ExecuteTime": {
     "end_time": "2023-12-04T21:23:57.838471400Z",
     "start_time": "2023-12-04T21:23:57.775572800Z"
    }
   },
   "id": "e311b94aaa6187e4"
  },
  {
   "cell_type": "code",
   "execution_count": 74,
   "outputs": [
    {
     "name": "stdout",
     "output_type": "stream",
     "text": [
      "                            OLS Regression Results                            \n",
      "==============================================================================\n",
      "Dep. Variable:                 mrdrte   R-squared:                       0.076\n",
      "Model:                            OLS   Adj. R-squared:                  0.051\n",
      "Method:                 Least Squares   F-statistic:                     3.047\n",
      "Date:                Mon, 04 Dec 2023   Prob (F-statistic):             0.0190\n",
      "Time:                        21:23:57   Log-Likelihood:                -549.96\n",
      "No. Observations:                 153   AIC:                             1110.\n",
      "Df Residuals:                     148   BIC:                             1125.\n",
      "Df Model:                           4                                         \n",
      "Covariance Type:            nonrobust                                         \n",
      "==============================================================================\n",
      "                 coef    std err          t      P>|t|      [0.025      0.975]\n",
      "------------------------------------------------------------------------------\n",
      "Intercept     -1.8644      3.070     -0.607      0.545      -7.930       4.201\n",
      "exec           0.1628      0.194      0.839      0.403      -0.220       0.546\n",
      "unem           1.3908      0.451      3.085      0.002       0.500       2.282\n",
      "year_90        2.6753      1.817      1.472      0.143      -0.915       6.266\n",
      "year_93        1.6073      1.775      0.906      0.367      -1.900       5.114\n",
      "==============================================================================\n",
      "Omnibus:                      220.139   Durbin-Watson:                   0.698\n",
      "Prob(Omnibus):                  0.000   Jarque-Bera (JB):            12528.591\n",
      "Skew:                           6.053   Prob(JB):                         0.00\n",
      "Kurtosis:                      45.647   Cond. No.                         29.9\n",
      "==============================================================================\n",
      "\n",
      "Notes:\n",
      "[1] Standard Errors assume that the covariance matrix of the errors is correctly specified.\n"
     ]
    }
   ],
   "source": [
    "# run regression of mrdrte on the created dummies, exec, unem and a constant\n",
    "reg = smf.ols('mrdrte ~ exec + unem + year_90 + year_93', data=df).fit()\n",
    "print(reg.summary())"
   ],
   "metadata": {
    "collapsed": false,
    "ExecuteTime": {
     "end_time": "2023-12-04T21:23:57.901241100Z",
     "start_time": "2023-12-04T21:23:57.791197400Z"
    }
   },
   "id": "cd3e6ebe2edd5ea5"
  },
  {
   "cell_type": "markdown",
   "source": [
    "### (b)"
   ],
   "metadata": {
    "collapsed": false
   },
   "id": "c489d1c486d3036e"
  },
  {
   "cell_type": "code",
   "execution_count": 75,
   "outputs": [
    {
     "data": {
      "text/plain": "id         1                 2     \nyear      87    90    93    87   90\nstate     AL    AL    AL    AK   AK\nmrdrte   9.3  11.6  11.6  10.1  7.5\nexec       2     5     2     0    0\nunem     7.8   6.8   7.5  10.8  6.9\nd90        0     1     0     0    1\nd93        0     0     1     0    0\ncmrdrte  NaN   2.3   0.0   NaN -2.6\ncexec    NaN   3.0  -3.0   NaN  0.0\ncunem    NaN  -1.0   0.7   NaN -3.9\ncexec_1  NaN   NaN   3.0   NaN  NaN\ncunem_1  NaN   NaN  -1.0   NaN  NaN\nyear_90  0.0   1.0   0.0   0.0  1.0\nyear_93  0.0   0.0   1.0   0.0  0.0\nconst      1     1     1     1    1",
      "text/html": "<div>\n<style scoped>\n    .dataframe tbody tr th:only-of-type {\n        vertical-align: middle;\n    }\n\n    .dataframe tbody tr th {\n        vertical-align: top;\n    }\n\n    .dataframe thead tr th {\n        text-align: left;\n    }\n</style>\n<table border=\"1\" class=\"dataframe\">\n  <thead>\n    <tr>\n      <th>id</th>\n      <th colspan=\"3\" halign=\"left\">1</th>\n      <th colspan=\"2\" halign=\"left\">2</th>\n    </tr>\n    <tr>\n      <th>year</th>\n      <th>87</th>\n      <th>90</th>\n      <th>93</th>\n      <th>87</th>\n      <th>90</th>\n    </tr>\n  </thead>\n  <tbody>\n    <tr>\n      <th>state</th>\n      <td>AL</td>\n      <td>AL</td>\n      <td>AL</td>\n      <td>AK</td>\n      <td>AK</td>\n    </tr>\n    <tr>\n      <th>mrdrte</th>\n      <td>9.3</td>\n      <td>11.6</td>\n      <td>11.6</td>\n      <td>10.1</td>\n      <td>7.5</td>\n    </tr>\n    <tr>\n      <th>exec</th>\n      <td>2</td>\n      <td>5</td>\n      <td>2</td>\n      <td>0</td>\n      <td>0</td>\n    </tr>\n    <tr>\n      <th>unem</th>\n      <td>7.8</td>\n      <td>6.8</td>\n      <td>7.5</td>\n      <td>10.8</td>\n      <td>6.9</td>\n    </tr>\n    <tr>\n      <th>d90</th>\n      <td>0</td>\n      <td>1</td>\n      <td>0</td>\n      <td>0</td>\n      <td>1</td>\n    </tr>\n    <tr>\n      <th>d93</th>\n      <td>0</td>\n      <td>0</td>\n      <td>1</td>\n      <td>0</td>\n      <td>0</td>\n    </tr>\n    <tr>\n      <th>cmrdrte</th>\n      <td>NaN</td>\n      <td>2.3</td>\n      <td>0.0</td>\n      <td>NaN</td>\n      <td>-2.6</td>\n    </tr>\n    <tr>\n      <th>cexec</th>\n      <td>NaN</td>\n      <td>3.0</td>\n      <td>-3.0</td>\n      <td>NaN</td>\n      <td>0.0</td>\n    </tr>\n    <tr>\n      <th>cunem</th>\n      <td>NaN</td>\n      <td>-1.0</td>\n      <td>0.7</td>\n      <td>NaN</td>\n      <td>-3.9</td>\n    </tr>\n    <tr>\n      <th>cexec_1</th>\n      <td>NaN</td>\n      <td>NaN</td>\n      <td>3.0</td>\n      <td>NaN</td>\n      <td>NaN</td>\n    </tr>\n    <tr>\n      <th>cunem_1</th>\n      <td>NaN</td>\n      <td>NaN</td>\n      <td>-1.0</td>\n      <td>NaN</td>\n      <td>NaN</td>\n    </tr>\n    <tr>\n      <th>year_90</th>\n      <td>0.0</td>\n      <td>1.0</td>\n      <td>0.0</td>\n      <td>0.0</td>\n      <td>1.0</td>\n    </tr>\n    <tr>\n      <th>year_93</th>\n      <td>0.0</td>\n      <td>0.0</td>\n      <td>1.0</td>\n      <td>0.0</td>\n      <td>0.0</td>\n    </tr>\n    <tr>\n      <th>const</th>\n      <td>1</td>\n      <td>1</td>\n      <td>1</td>\n      <td>1</td>\n      <td>1</td>\n    </tr>\n  </tbody>\n</table>\n</div>"
     },
     "execution_count": 75,
     "metadata": {},
     "output_type": "execute_result"
    }
   ],
   "source": [
    "# declare panel data with year and id as index\n",
    "df_panel = df.set_index(['id', 'year'])\n",
    "df_panel['const'] = 1\n",
    "df_panel.head().T"
   ],
   "metadata": {
    "collapsed": false,
    "ExecuteTime": {
     "end_time": "2023-12-04T21:23:57.902261600Z",
     "start_time": "2023-12-04T21:23:57.822847700Z"
    }
   },
   "id": "31d1895c0ba9b2b7"
  },
  {
   "cell_type": "code",
   "execution_count": 76,
   "outputs": [
    {
     "name": "stdout",
     "output_type": "stream",
     "text": [
      "                          PanelOLS Estimation Summary                           \n",
      "================================================================================\n",
      "Dep. Variable:                 mrdrte   R-squared:                        0.0734\n",
      "Estimator:                   PanelOLS   R-squared (Between):              0.0037\n",
      "No. Observations:                 153   R-squared (Within):               0.0734\n",
      "Date:                Mon, Dec 04 2023   R-squared (Overall):              0.0108\n",
      "Time:                        21:23:57   Log-likelihood                   -375.63\n",
      "Cov. Estimator:            Unadjusted                                           \n",
      "                                        F-statistic:                      1.9398\n",
      "Entities:                          51   P-value                           0.1098\n",
      "Avg Obs:                       3.0000   Distribution:                    F(4,98)\n",
      "Min Obs:                       3.0000                                           \n",
      "Max Obs:                       3.0000   F-statistic (robust):             1.9398\n",
      "                                        P-value                           0.1098\n",
      "Time periods:                       3   Distribution:                    F(4,98)\n",
      "Avg Obs:                       51.000                                           \n",
      "Min Obs:                       51.000                                           \n",
      "Max Obs:                       51.000                                           \n",
      "                                                                                \n",
      "                             Parameter Estimates                              \n",
      "==============================================================================\n",
      "            Parameter  Std. Err.     T-stat    P-value    Lower CI    Upper CI\n",
      "------------------------------------------------------------------------------\n",
      "exec          -0.1383     0.1770    -0.7815     0.4364     -0.4896      0.2129\n",
      "unem           0.2213     0.2964     0.7467     0.4570     -0.3668      0.8095\n",
      "year_90        1.5562     0.7453     2.0880     0.0394      0.0771      3.0353\n",
      "year_93        1.7332     0.7004     2.4745     0.0151      0.3432      3.1232\n",
      "const          5.8221     1.9156     3.0393     0.0030      2.0206      9.6236\n",
      "==============================================================================\n",
      "\n",
      "F-test for Poolability: 17.181\n",
      "P-value: 0.0000\n",
      "Distribution: F(50,98)\n",
      "\n",
      "Included effects: Entity\n"
     ]
    }
   ],
   "source": [
    "# run Fixed Effects regression\n",
    "from linearmodels import PanelOLS\n",
    "\n",
    "mod = PanelOLS(df_panel['mrdrte'], df_panel[['exec','unem', 'year_90', 'year_93', 'const']], entity_effects=True, time_effects=False)\n",
    "res = mod.fit()\n",
    "print(res.summary)"
   ],
   "metadata": {
    "collapsed": false,
    "ExecuteTime": {
     "end_time": "2023-12-04T21:23:57.902261600Z",
     "start_time": "2023-12-04T21:23:57.838471400Z"
    }
   },
   "id": "47231aeae192e75c"
  },
  {
   "cell_type": "markdown",
   "source": [
    "Compared to (a), the coefficient of unem is very different (not significant anymore) which suggests that unem is corelated  state fixed effects.\n"
   ],
   "metadata": {
    "collapsed": false
   },
   "id": "7b0ae0b1ea4a2197"
  },
  {
   "cell_type": "code",
   "execution_count": 77,
   "outputs": [
    {
     "name": "stdout",
     "output_type": "stream",
     "text": [
      "exec      -0.138323\n",
      "unem       0.221316\n",
      "year_90    1.556215\n",
      "year_93    1.733242\n",
      "const      5.822104\n",
      "Name: parameter, dtype: float64\n",
      "             exec      unem   year_90   year_93     const\n",
      "exec     0.031331 -0.004388  0.004712 -0.011621 -0.009985\n",
      "unem    -0.004388  0.087839  0.076644  0.000601 -0.545034\n",
      "year_90  0.004712  0.076644  0.555513  0.240489 -0.728936\n",
      "year_93 -0.011621  0.000601  0.240489  0.490614 -0.233014\n",
      "const   -0.009985 -0.545034 -0.728936 -0.233014  3.669566\n",
      "exec       0.177006\n",
      "unem       0.296376\n",
      "year_90    0.745327\n",
      "year_93    0.700438\n",
      "const      1.915611\n",
      "Name: std_error, dtype: float64\n"
     ]
    }
   ],
   "source": [
    "# Save the coefficients of the fixed effects regression\n",
    "beta_fe = res.params\n",
    "\n",
    "# save the covariance matrix of the fixed effects regression\n",
    "V_fe = res.cov\n",
    "sd_fe = res.std_errors\n",
    "\n",
    "print(beta_fe)\n",
    "print(V_fe)\n",
    "print(sd_fe)"
   ],
   "metadata": {
    "collapsed": false,
    "ExecuteTime": {
     "end_time": "2023-12-04T21:23:57.979449600Z",
     "start_time": "2023-12-04T21:23:57.869721500Z"
    }
   },
   "id": "7ab62594d15dfb67"
  },
  {
   "cell_type": "markdown",
   "source": [
    "### (c)"
   ],
   "metadata": {
    "collapsed": false
   },
   "id": "386b27572feb7bab"
  },
  {
   "cell_type": "code",
   "execution_count": 78,
   "outputs": [
    {
     "data": {
      "text/plain": "          0     1     2     3    4\nid        1     1     1     2    2\nstate    AL    AL    AL    AK   AK\nyear     87    90    93    87   90\nmrdrte  9.3  11.6  11.6  10.1  7.5\nexec      2     5     2     0    0\n...     ...   ...   ...   ...  ...\n48      0.0   0.0   0.0   0.0  0.0\n49      0.0   0.0   0.0   0.0  0.0\n50      0.0   0.0   0.0   0.0  0.0\n51      0.0   0.0   0.0   0.0  0.0\nconst     1     1     1     1    1\n\n[66 rows x 5 columns]",
      "text/html": "<div>\n<style scoped>\n    .dataframe tbody tr th:only-of-type {\n        vertical-align: middle;\n    }\n\n    .dataframe tbody tr th {\n        vertical-align: top;\n    }\n\n    .dataframe thead th {\n        text-align: right;\n    }\n</style>\n<table border=\"1\" class=\"dataframe\">\n  <thead>\n    <tr style=\"text-align: right;\">\n      <th></th>\n      <th>0</th>\n      <th>1</th>\n      <th>2</th>\n      <th>3</th>\n      <th>4</th>\n    </tr>\n  </thead>\n  <tbody>\n    <tr>\n      <th>id</th>\n      <td>1</td>\n      <td>1</td>\n      <td>1</td>\n      <td>2</td>\n      <td>2</td>\n    </tr>\n    <tr>\n      <th>state</th>\n      <td>AL</td>\n      <td>AL</td>\n      <td>AL</td>\n      <td>AK</td>\n      <td>AK</td>\n    </tr>\n    <tr>\n      <th>year</th>\n      <td>87</td>\n      <td>90</td>\n      <td>93</td>\n      <td>87</td>\n      <td>90</td>\n    </tr>\n    <tr>\n      <th>mrdrte</th>\n      <td>9.3</td>\n      <td>11.6</td>\n      <td>11.6</td>\n      <td>10.1</td>\n      <td>7.5</td>\n    </tr>\n    <tr>\n      <th>exec</th>\n      <td>2</td>\n      <td>5</td>\n      <td>2</td>\n      <td>0</td>\n      <td>0</td>\n    </tr>\n    <tr>\n      <th>...</th>\n      <td>...</td>\n      <td>...</td>\n      <td>...</td>\n      <td>...</td>\n      <td>...</td>\n    </tr>\n    <tr>\n      <th>48</th>\n      <td>0.0</td>\n      <td>0.0</td>\n      <td>0.0</td>\n      <td>0.0</td>\n      <td>0.0</td>\n    </tr>\n    <tr>\n      <th>49</th>\n      <td>0.0</td>\n      <td>0.0</td>\n      <td>0.0</td>\n      <td>0.0</td>\n      <td>0.0</td>\n    </tr>\n    <tr>\n      <th>50</th>\n      <td>0.0</td>\n      <td>0.0</td>\n      <td>0.0</td>\n      <td>0.0</td>\n      <td>0.0</td>\n    </tr>\n    <tr>\n      <th>51</th>\n      <td>0.0</td>\n      <td>0.0</td>\n      <td>0.0</td>\n      <td>0.0</td>\n      <td>0.0</td>\n    </tr>\n    <tr>\n      <th>const</th>\n      <td>1</td>\n      <td>1</td>\n      <td>1</td>\n      <td>1</td>\n      <td>1</td>\n    </tr>\n  </tbody>\n</table>\n<p>66 rows × 5 columns</p>\n</div>"
     },
     "execution_count": 78,
     "metadata": {},
     "output_type": "execute_result"
    }
   ],
   "source": [
    "# create dummy for each state from df\n",
    "df_state = pd.concat([df, pd.get_dummies(df['id'], drop_first=True).astype(float)], axis=1)\n",
    "df_state['const'] = 1\n",
    "df_state.head().T"
   ],
   "metadata": {
    "collapsed": false,
    "ExecuteTime": {
     "end_time": "2023-12-04T21:23:57.979449600Z",
     "start_time": "2023-12-04T21:23:57.885345700Z"
    }
   },
   "id": "481bdc9ba00e1760"
  },
  {
   "cell_type": "code",
   "execution_count": 79,
   "outputs": [
    {
     "data": {
      "text/plain": "                  0         1         2         3         4\nid                1         1         1         2         2\nstate            AL        AL        AL        AK        AK\nyear             87        90        93        87        90\nmrdrte          9.3      11.6      11.6      10.1       7.5\nexec              2         5         2         0         0\n...             ...       ...       ...       ...       ...\nr_mrdrte  -1.533333  0.766667  0.766667  1.233334 -1.366667\nr_exec         -1.0       2.0      -1.0      -0.0      -0.0\nr_unem     0.433333 -0.566667  0.133333  2.366667 -1.533333\nr_year_90 -0.333333  0.666667 -0.333333 -0.333333  0.666667\nr_year_93 -0.333333 -0.333333  0.666667 -0.333333 -0.333333\n\n[71 rows x 5 columns]",
      "text/html": "<div>\n<style scoped>\n    .dataframe tbody tr th:only-of-type {\n        vertical-align: middle;\n    }\n\n    .dataframe tbody tr th {\n        vertical-align: top;\n    }\n\n    .dataframe thead th {\n        text-align: right;\n    }\n</style>\n<table border=\"1\" class=\"dataframe\">\n  <thead>\n    <tr style=\"text-align: right;\">\n      <th></th>\n      <th>0</th>\n      <th>1</th>\n      <th>2</th>\n      <th>3</th>\n      <th>4</th>\n    </tr>\n  </thead>\n  <tbody>\n    <tr>\n      <th>id</th>\n      <td>1</td>\n      <td>1</td>\n      <td>1</td>\n      <td>2</td>\n      <td>2</td>\n    </tr>\n    <tr>\n      <th>state</th>\n      <td>AL</td>\n      <td>AL</td>\n      <td>AL</td>\n      <td>AK</td>\n      <td>AK</td>\n    </tr>\n    <tr>\n      <th>year</th>\n      <td>87</td>\n      <td>90</td>\n      <td>93</td>\n      <td>87</td>\n      <td>90</td>\n    </tr>\n    <tr>\n      <th>mrdrte</th>\n      <td>9.3</td>\n      <td>11.6</td>\n      <td>11.6</td>\n      <td>10.1</td>\n      <td>7.5</td>\n    </tr>\n    <tr>\n      <th>exec</th>\n      <td>2</td>\n      <td>5</td>\n      <td>2</td>\n      <td>0</td>\n      <td>0</td>\n    </tr>\n    <tr>\n      <th>...</th>\n      <td>...</td>\n      <td>...</td>\n      <td>...</td>\n      <td>...</td>\n      <td>...</td>\n    </tr>\n    <tr>\n      <th>r_mrdrte</th>\n      <td>-1.533333</td>\n      <td>0.766667</td>\n      <td>0.766667</td>\n      <td>1.233334</td>\n      <td>-1.366667</td>\n    </tr>\n    <tr>\n      <th>r_exec</th>\n      <td>-1.0</td>\n      <td>2.0</td>\n      <td>-1.0</td>\n      <td>-0.0</td>\n      <td>-0.0</td>\n    </tr>\n    <tr>\n      <th>r_unem</th>\n      <td>0.433333</td>\n      <td>-0.566667</td>\n      <td>0.133333</td>\n      <td>2.366667</td>\n      <td>-1.533333</td>\n    </tr>\n    <tr>\n      <th>r_year_90</th>\n      <td>-0.333333</td>\n      <td>0.666667</td>\n      <td>-0.333333</td>\n      <td>-0.333333</td>\n      <td>0.666667</td>\n    </tr>\n    <tr>\n      <th>r_year_93</th>\n      <td>-0.333333</td>\n      <td>-0.333333</td>\n      <td>0.666667</td>\n      <td>-0.333333</td>\n      <td>-0.333333</td>\n    </tr>\n  </tbody>\n</table>\n<p>71 rows × 5 columns</p>\n</div>"
     },
     "execution_count": 79,
     "metadata": {},
     "output_type": "execute_result"
    }
   ],
   "source": [
    "for variable in ['mrdrte', 'exec', 'unem', 'year_90', 'year_93']:\n",
    "    # run regression of mrdrte on the created dummies\n",
    "    reg_state = sm.OLS(endog=df_state[variable], exog=df_state[[x for x in range(2, 52)] + ['const']]).fit()\n",
    "    # save the residuals\n",
    "    df_state['r_{}'.format(variable)]= reg_state.resid\n",
    "\n",
    "df_state.head().T"
   ],
   "metadata": {
    "collapsed": false,
    "ExecuteTime": {
     "end_time": "2023-12-04T21:23:58.057675100Z",
     "start_time": "2023-12-04T21:23:57.902261600Z"
    }
   },
   "id": "1d6ea1128d85bd31"
  },
  {
   "cell_type": "code",
   "execution_count": 80,
   "outputs": [
    {
     "name": "stdout",
     "output_type": "stream",
     "text": [
      "                                 OLS Regression Results                                \n",
      "=======================================================================================\n",
      "Dep. Variable:               r_mrdrte   R-squared (uncentered):                   0.073\n",
      "Model:                            OLS   Adj. R-squared (uncentered):              0.048\n",
      "Method:                 Least Squares   F-statistic:                              2.949\n",
      "Date:                Mon, 04 Dec 2023   Prob (F-statistic):                      0.0221\n",
      "Time:                        21:23:57   Log-Likelihood:                         -375.63\n",
      "No. Observations:                 153   AIC:                                      759.3\n",
      "Df Residuals:                     149   BIC:                                      771.4\n",
      "Df Model:                           4                                                  \n",
      "Covariance Type:            nonrobust                                                  \n",
      "==============================================================================\n",
      "                 coef    std err          t      P>|t|      [0.025      0.975]\n",
      "------------------------------------------------------------------------------\n",
      "r_exec        -0.1383      0.144     -0.964      0.337      -0.422       0.145\n",
      "r_unem         0.2213      0.240      0.921      0.359      -0.254       0.696\n",
      "r_year_90      1.5562      0.604      2.575      0.011       0.362       2.751\n",
      "r_year_93      1.7332      0.568      3.051      0.003       0.611       2.856\n",
      "==============================================================================\n",
      "Omnibus:                      187.537   Durbin-Watson:                   2.241\n",
      "Prob(Omnibus):                  0.000   Jarque-Bera (JB):            20563.268\n",
      "Skew:                          -4.161   Prob(JB):                         0.00\n",
      "Kurtosis:                      59.181   Cond. No.                         5.09\n",
      "==============================================================================\n",
      "\n",
      "Notes:\n",
      "[1] R² is computed without centering (uncentered) since the model does not contain a constant.\n",
      "[2] Standard Errors assume that the covariance matrix of the errors is correctly specified.\n"
     ]
    }
   ],
   "source": [
    "# run regression of r_mrdrte on r_exec, r_unem, r_year_90, r_year_93 , no constant\n",
    "reg_within = sm.OLS(endog=df_state['r_mrdrte'], exog=df_state[['r_exec', 'r_unem', 'r_year_90', 'r_year_93']]).fit()\n",
    "print(reg_within.summary())"
   ],
   "metadata": {
    "collapsed": false,
    "ExecuteTime": {
     "end_time": "2023-12-04T21:23:58.073298Z",
     "start_time": "2023-12-04T21:23:57.948030100Z"
    }
   },
   "id": "e476019b3c425486"
  },
  {
   "cell_type": "code",
   "execution_count": 81,
   "outputs": [
    {
     "name": "stdout",
     "output_type": "stream",
     "text": [
      "r_exec      -0.138323\n",
      "r_unem       0.221316\n",
      "r_year_90    1.556215\n",
      "r_year_93    1.733242\n",
      "dtype: float64\n",
      "exec      -0.138323\n",
      "unem       0.221316\n",
      "year_90    1.556215\n",
      "year_93    1.733242\n",
      "const      5.822104\n",
      "Name: parameter, dtype: float64\n",
      "             r_exec    r_unem  r_year_90  r_year_93\n",
      "r_exec     0.020607 -0.002886   0.003099  -0.007643\n",
      "r_unem    -0.002886  0.057773   0.050410   0.000396\n",
      "r_year_90  0.003099  0.050410   0.365371   0.158174\n",
      "r_year_93 -0.007643  0.000396   0.158174   0.322685\n",
      "             exec      unem   year_90   year_93     const\n",
      "exec     0.031331 -0.004388  0.004712 -0.011621 -0.009985\n",
      "unem    -0.004388  0.087839  0.076644  0.000601 -0.545034\n",
      "year_90  0.004712  0.076644  0.555513  0.240489 -0.728936\n",
      "year_93 -0.011621  0.000601  0.240489  0.490614 -0.233014\n",
      "const   -0.009985 -0.545034 -0.728936 -0.233014  3.669566\n"
     ]
    }
   ],
   "source": [
    "# compare the coefficients of the fixed effects regression and the regression of r_mrdrte on r_exec, r_unem, r_year_90, r_year_93\n",
    "print(reg_within.params)\n",
    "print(beta_fe)\n",
    "\n",
    "print(reg_within.cov_params())\n",
    "print(V_fe)\n",
    "\n"
   ],
   "metadata": {
    "collapsed": false,
    "ExecuteTime": {
     "end_time": "2023-12-04T21:23:58.073298Z",
     "start_time": "2023-12-04T21:23:57.963655800Z"
    }
   },
   "id": "777e15d2f0173f8"
  },
  {
   "cell_type": "markdown",
   "source": [],
   "metadata": {
    "collapsed": false
   },
   "id": "98a0d0b1a39d6f33"
  },
  {
   "cell_type": "code",
   "execution_count": 82,
   "outputs": [
    {
     "name": "stdout",
     "output_type": "stream",
     "text": [
      "r_exec       0.177006\n",
      "r_unem       0.296376\n",
      "r_year_90    0.745327\n",
      "r_year_93    0.700438\n",
      "dtype: float64\n",
      "exec       0.177006\n",
      "unem       0.296376\n",
      "year_90    0.745327\n",
      "year_93    0.700438\n",
      "const      1.915611\n",
      "Name: std_error, dtype: float64\n"
     ]
    }
   ],
   "source": [
    "# Adjust the standard errors of the regression \n",
    "adjusted_se = np.sqrt((153-4)/(153-4-51)) * reg_within.bse\n",
    "print(adjusted_se)\n",
    "print(sd_fe)"
   ],
   "metadata": {
    "collapsed": false,
    "ExecuteTime": {
     "end_time": "2023-12-04T21:23:58.073298Z",
     "start_time": "2023-12-04T21:23:57.979449600Z"
    }
   },
   "id": "c9887a4b6f629389"
  },
  {
   "cell_type": "markdown",
   "source": [
    "In fact, we did a within regression in (c). The results of coefficients are the same as those in (b). However, the standard errors are different. After adjusting the standard errors by the degree of freedom, the standard errors are the same.\n",
    "### (d)"
   ],
   "metadata": {
    "collapsed": false
   },
   "id": "2742009c7a3f7c09"
  },
  {
   "cell_type": "code",
   "execution_count": 83,
   "outputs": [
    {
     "name": "stdout",
     "output_type": "stream",
     "text": [
      "                        RandomEffects Estimation Summary                        \n",
      "================================================================================\n",
      "Dep. Variable:                 mrdrte   R-squared:                        0.0548\n",
      "Estimator:              RandomEffects   R-squared (Between):              0.0279\n",
      "No. Observations:                 153   R-squared (Within):               0.0679\n",
      "Date:                Mon, Dec 04 2023   R-squared (Overall):              0.0320\n",
      "Time:                        21:23:58   Log-likelihood                   -407.52\n",
      "Cov. Estimator:            Unadjusted                                           \n",
      "                                        F-statistic:                      2.1454\n",
      "Entities:                          51   P-value                           0.0780\n",
      "Avg Obs:                       3.0000   Distribution:                   F(4,148)\n",
      "Min Obs:                       3.0000                                           \n",
      "Max Obs:                       3.0000   F-statistic (robust):             2.1454\n",
      "                                        P-value                           0.0780\n",
      "Time periods:                       3   Distribution:                   F(4,148)\n",
      "Avg Obs:                       51.000                                           \n",
      "Min Obs:                       51.000                                           \n",
      "Max Obs:                       51.000                                           \n",
      "                                                                                \n",
      "                             Parameter Estimates                              \n",
      "==============================================================================\n",
      "            Parameter  Std. Err.     T-stat    P-value    Lower CI    Upper CI\n",
      "------------------------------------------------------------------------------\n",
      "exec          -0.0571     0.1590    -0.3590     0.7201     -0.3713      0.2572\n",
      "unem           0.3882     0.2833     1.3703     0.1727     -0.1716      0.9480\n",
      "year_90        1.7264     0.7426     2.3248     0.0214      0.2589      3.1939\n",
      "year_93        1.7010     0.7015     2.4250     0.0165      0.3148      3.0872\n",
      "const          4.6795     2.1806     2.1459     0.0335      0.3703      8.9886\n",
      "==============================================================================\n"
     ]
    }
   ],
   "source": [
    "from linearmodels.panel import RandomEffects\n",
    "\n",
    "# run Random Effects regression\n",
    "reg_re = RandomEffects(df_panel['mrdrte'], df_panel[['exec','unem', 'year_90', 'year_93', 'const']])\n",
    "res_re = reg_re.fit()\n",
    "print(res_re)"
   ],
   "metadata": {
    "collapsed": false,
    "ExecuteTime": {
     "end_time": "2023-12-04T21:23:58.167450Z",
     "start_time": "2023-12-04T21:23:57.995073800Z"
    }
   },
   "id": "123bf2addd3ac921"
  },
  {
   "cell_type": "code",
   "execution_count": 84,
   "outputs": [
    {
     "name": "stdout",
     "output_type": "stream",
     "text": [
      "Should we reject the null hypothsis? False\n"
     ]
    }
   ],
   "source": [
    "# record the coefficients and covariance matrix of the random effects regression\n",
    "beta_re = res_re.params\n",
    "V_re = res_re.cov\n",
    "\n",
    "# Hausman test\n",
    "q = np.array(beta_fe[:-1] - beta_re[:-1])\n",
    "V = np.array(np.array(V_fe)[:-1, :-1] - np.array(V_re)[:-1, :-1])\n",
    "\n",
    "T = np.matmul(np.matmul(q.T, np.linalg.inv(V)), q)\n",
    "\n",
    "import scipy.stats as stats\n",
    "print('Should we reject the null hypothsis?', T>stats.chi2(4).ppf(0.95))"
   ],
   "metadata": {
    "collapsed": false,
    "ExecuteTime": {
     "end_time": "2023-12-04T21:23:58.202714800Z",
     "start_time": "2023-12-04T21:23:58.042050500Z"
    }
   },
   "id": "7049b30d8fe9e1d9"
  },
  {
   "cell_type": "markdown",
   "source": [
    "Hausman statistic is smaller than $\\chi^2(4)=9.4877$, so we cannot reject the null hypothesis of the specification of Random Effects."
   ],
   "metadata": {
    "collapsed": false
   },
   "id": "9ea8c8739230c840"
  },
  {
   "cell_type": "code",
   "execution_count": 84,
   "outputs": [],
   "source": [],
   "metadata": {
    "collapsed": false,
    "ExecuteTime": {
     "end_time": "2023-12-04T21:23:58.202714800Z",
     "start_time": "2023-12-04T21:23:58.057675100Z"
    }
   },
   "id": "3d6fe81ba73a7671"
  }
 ],
 "metadata": {
  "kernelspec": {
   "display_name": "Python 3",
   "language": "python",
   "name": "python3"
  },
  "language_info": {
   "codemirror_mode": {
    "name": "ipython",
    "version": 2
   },
   "file_extension": ".py",
   "mimetype": "text/x-python",
   "name": "python",
   "nbconvert_exporter": "python",
   "pygments_lexer": "ipython2",
   "version": "2.7.6"
  }
 },
 "nbformat": 4,
 "nbformat_minor": 5
}
